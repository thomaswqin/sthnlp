{
 "cells": [
  {
   "cell_type": "markdown",
   "metadata": {},
   "source": [
    "# LDSW/NLP - #4 - Tools & Vectors\n",
    "\n",
    "2018-04-06, `hisamoto_s`"
   ]
  },
  {
   "cell_type": "markdown",
   "metadata": {},
   "source": [
    "![](https://sd.keepcalm-o-matic.co.uk/i-w600/forget-calm-lets-do-something-1.jpg)"
   ]
  },
  {
   "cell_type": "markdown",
   "metadata": {},
   "source": [
    "## Environment"
   ]
  },
  {
   "cell_type": "markdown",
   "metadata": {},
   "source": [
    "- Jupyter Notebook\n",
    "- **JupyterHub** - Multi-user server for Jupyter notebooks\n",
    "- **JupyterLab** - Next generation Analysis Environment\n",
    "    - Feb 20, 2018 - [JupyterLab is Ready for Users – Jupyter Blog](https://blog.jupyter.org/jupyterlab-is-ready-for-users-5a6f039b8906)\n",
    "    - \"We plan to release JupyterLab 1.0 later in 2018\"\n",
    "- This is \"JupyerLab on JupyterHub\" (how confusing)"
   ]
  },
  {
   "cell_type": "markdown",
   "metadata": {},
   "source": [
    "![](http://jupyterlab.readthedocs.io/en/latest/_images/jupyterlab.png)"
   ]
  },
  {
   "cell_type": "markdown",
   "metadata": {},
   "source": [
    "![](https://cdn-images-1.medium.com/max/800/1*OneJZOqKqBZ9oN80kRX7kQ.png)"
   ]
  },
  {
   "cell_type": "markdown",
   "metadata": {},
   "source": [
    "## Data Setup"
   ]
  },
  {
   "cell_type": "code",
   "execution_count": 1,
   "metadata": {},
   "outputs": [],
   "source": [
    "import pandas as pd"
   ]
  },
  {
   "cell_type": "code",
   "execution_count": 2,
   "metadata": {},
   "outputs": [
    {
     "data": {
      "text/html": [
       "<div>\n",
       "<style>\n",
       "    .dataframe thead tr:only-child th {\n",
       "        text-align: right;\n",
       "    }\n",
       "\n",
       "    .dataframe thead th {\n",
       "        text-align: left;\n",
       "    }\n",
       "\n",
       "    .dataframe tbody tr th {\n",
       "        vertical-align: top;\n",
       "    }\n",
       "</style>\n",
       "<table border=\"1\" class=\"dataframe\">\n",
       "  <thead>\n",
       "    <tr style=\"text-align: right;\">\n",
       "      <th></th>\n",
       "      <th>sent_1</th>\n",
       "      <th>sent_2</th>\n",
       "    </tr>\n",
       "  </thead>\n",
       "  <tbody>\n",
       "    <tr>\n",
       "      <th>0</th>\n",
       "      <td>A man is riding a bicycle.</td>\n",
       "      <td>A man is riding a bike.</td>\n",
       "    </tr>\n",
       "    <tr>\n",
       "      <th>1</th>\n",
       "      <td>A woman and man are dancing in the rain.</td>\n",
       "      <td>A man and woman are dancing in rain.</td>\n",
       "    </tr>\n",
       "    <tr>\n",
       "      <th>2</th>\n",
       "      <td>Someone is drawing.</td>\n",
       "      <td>Someone is dancing.</td>\n",
       "    </tr>\n",
       "    <tr>\n",
       "      <th>3</th>\n",
       "      <td>A man and a woman are kissing each other.</td>\n",
       "      <td>A man and a woman are talking to each other.</td>\n",
       "    </tr>\n",
       "    <tr>\n",
       "      <th>4</th>\n",
       "      <td>A woman is slicing an onion.</td>\n",
       "      <td>A woman is cutting an onion.</td>\n",
       "    </tr>\n",
       "  </tbody>\n",
       "</table>\n",
       "</div>"
      ],
      "text/plain": [
       "                                      sent_1  \\\n",
       "0                 A man is riding a bicycle.   \n",
       "1   A woman and man are dancing in the rain.   \n",
       "2                        Someone is drawing.   \n",
       "3  A man and a woman are kissing each other.   \n",
       "4               A woman is slicing an onion.   \n",
       "\n",
       "                                         sent_2  \n",
       "0                       A man is riding a bike.  \n",
       "1          A man and woman are dancing in rain.  \n",
       "2                           Someone is dancing.  \n",
       "3  A man and a woman are talking to each other.  \n",
       "4                  A woman is cutting an onion.  "
      ]
     },
     "execution_count": 2,
     "metadata": {},
     "output_type": "execute_result"
    }
   ],
   "source": [
    "df_sent = pd.read_csv(\"./data/train/STS.input.MSRvid.txt\", sep=\"\\t\", names=[\"sent_1\", \"sent_2\"])\n",
    "df_sent.head()"
   ]
  },
  {
   "cell_type": "code",
   "execution_count": 3,
   "metadata": {},
   "outputs": [
    {
     "data": {
      "text/html": [
       "<div>\n",
       "<style>\n",
       "    .dataframe thead tr:only-child th {\n",
       "        text-align: right;\n",
       "    }\n",
       "\n",
       "    .dataframe thead th {\n",
       "        text-align: left;\n",
       "    }\n",
       "\n",
       "    .dataframe tbody tr th {\n",
       "        vertical-align: top;\n",
       "    }\n",
       "</style>\n",
       "<table border=\"1\" class=\"dataframe\">\n",
       "  <thead>\n",
       "    <tr style=\"text-align: right;\">\n",
       "      <th></th>\n",
       "      <th>score</th>\n",
       "    </tr>\n",
       "  </thead>\n",
       "  <tbody>\n",
       "    <tr>\n",
       "      <th>0</th>\n",
       "      <td>5.0</td>\n",
       "    </tr>\n",
       "    <tr>\n",
       "      <th>1</th>\n",
       "      <td>5.0</td>\n",
       "    </tr>\n",
       "    <tr>\n",
       "      <th>2</th>\n",
       "      <td>0.3</td>\n",
       "    </tr>\n",
       "    <tr>\n",
       "      <th>3</th>\n",
       "      <td>0.6</td>\n",
       "    </tr>\n",
       "    <tr>\n",
       "      <th>4</th>\n",
       "      <td>4.2</td>\n",
       "    </tr>\n",
       "  </tbody>\n",
       "</table>\n",
       "</div>"
      ],
      "text/plain": [
       "   score\n",
       "0    5.0\n",
       "1    5.0\n",
       "2    0.3\n",
       "3    0.6\n",
       "4    4.2"
      ]
     },
     "execution_count": 3,
     "metadata": {},
     "output_type": "execute_result"
    }
   ],
   "source": [
    "df_score = pd.read_csv(\"./data/train/STS.gs.MSRvid.txt\", sep=\"\\t\", names=[\"score\"])\n",
    "df_score.head()"
   ]
  },
  {
   "cell_type": "code",
   "execution_count": 4,
   "metadata": {},
   "outputs": [
    {
     "data": {
      "text/html": [
       "<div>\n",
       "<style>\n",
       "    .dataframe thead tr:only-child th {\n",
       "        text-align: right;\n",
       "    }\n",
       "\n",
       "    .dataframe thead th {\n",
       "        text-align: left;\n",
       "    }\n",
       "\n",
       "    .dataframe tbody tr th {\n",
       "        vertical-align: top;\n",
       "    }\n",
       "</style>\n",
       "<table border=\"1\" class=\"dataframe\">\n",
       "  <thead>\n",
       "    <tr style=\"text-align: right;\">\n",
       "      <th></th>\n",
       "      <th>score</th>\n",
       "      <th>sent_1</th>\n",
       "      <th>sent_2</th>\n",
       "    </tr>\n",
       "  </thead>\n",
       "  <tbody>\n",
       "    <tr>\n",
       "      <th>0</th>\n",
       "      <td>5.0</td>\n",
       "      <td>A man is riding a bicycle.</td>\n",
       "      <td>A man is riding a bike.</td>\n",
       "    </tr>\n",
       "    <tr>\n",
       "      <th>1</th>\n",
       "      <td>5.0</td>\n",
       "      <td>A woman and man are dancing in the rain.</td>\n",
       "      <td>A man and woman are dancing in rain.</td>\n",
       "    </tr>\n",
       "    <tr>\n",
       "      <th>2</th>\n",
       "      <td>0.3</td>\n",
       "      <td>Someone is drawing.</td>\n",
       "      <td>Someone is dancing.</td>\n",
       "    </tr>\n",
       "    <tr>\n",
       "      <th>3</th>\n",
       "      <td>0.6</td>\n",
       "      <td>A man and a woman are kissing each other.</td>\n",
       "      <td>A man and a woman are talking to each other.</td>\n",
       "    </tr>\n",
       "    <tr>\n",
       "      <th>4</th>\n",
       "      <td>4.2</td>\n",
       "      <td>A woman is slicing an onion.</td>\n",
       "      <td>A woman is cutting an onion.</td>\n",
       "    </tr>\n",
       "  </tbody>\n",
       "</table>\n",
       "</div>"
      ],
      "text/plain": [
       "   score                                     sent_1  \\\n",
       "0    5.0                 A man is riding a bicycle.   \n",
       "1    5.0   A woman and man are dancing in the rain.   \n",
       "2    0.3                        Someone is drawing.   \n",
       "3    0.6  A man and a woman are kissing each other.   \n",
       "4    4.2               A woman is slicing an onion.   \n",
       "\n",
       "                                         sent_2  \n",
       "0                       A man is riding a bike.  \n",
       "1          A man and woman are dancing in rain.  \n",
       "2                           Someone is dancing.  \n",
       "3  A man and a woman are talking to each other.  \n",
       "4                  A woman is cutting an onion.  "
      ]
     },
     "execution_count": 4,
     "metadata": {},
     "output_type": "execute_result"
    }
   ],
   "source": [
    "df = pd.concat([df_score, df_sent], axis=1)\n",
    "df.head()"
   ]
  },
  {
   "cell_type": "code",
   "execution_count": 5,
   "metadata": {},
   "outputs": [],
   "source": [
    "df.to_csv(\"./data/datamart.MSRvid.csv\", index=False)"
   ]
  },
  {
   "cell_type": "markdown",
   "metadata": {},
   "source": [
    "## spaCy\n",
    "\n",
    "[spaCy - Industrial-strength Natural Language Processing in Python](https://spacy.io/)\n",
    "\n",
    "> Industrial-Strength Natural Language Processing"
   ]
  },
  {
   "cell_type": "markdown",
   "metadata": {},
   "source": [
    "[Workshop for NLP Open Source Software (NLP-OSS)](https://nlposs.github.io/) - Invited Speakers"
   ]
  },
  {
   "cell_type": "code",
   "execution_count": 6,
   "metadata": {},
   "outputs": [],
   "source": [
    "import spacy"
   ]
  },
  {
   "cell_type": "markdown",
   "metadata": {},
   "source": [
    "![](https://spacy.io/assets/img/pipeline.svg)"
   ]
  },
  {
   "cell_type": "markdown",
   "metadata": {},
   "source": [
    "## Word Embedding"
   ]
  },
  {
   "cell_type": "markdown",
   "metadata": {},
   "source": [
    "Real-value dense vector representation of a word.\n",
    "\n",
    "実数値低次元ベクトルで単語を表現。\n",
    "\n",
    "\\- [Word embeddings in 2017: Trends and future directions](http://ruder.io/word-embeddings-2017/)\n",
    "\n",
    "![](http://ruder.io/content/images/2017/10/semantic_change.png)"
   ]
  },
  {
   "cell_type": "markdown",
   "metadata": {},
   "source": [
    "Famous \"King - Man + Woman = Queen\"\n",
    "\n",
    "有名な \"王 - 男 + 女 = 女王\""
   ]
  },
  {
   "cell_type": "markdown",
   "metadata": {},
   "source": [
    "Hideto Kazawa of Google once said to me \"This is psudo-science, smart people do not add vectors\".\n",
    "\n",
    "その昔Googleの賀沢秀人さんに「あれは疑似科学だ。賢い人はベクトルを足したりしない」と言われました。"
   ]
  },
  {
   "cell_type": "markdown",
   "metadata": {},
   "source": [
    "![](https://s3.amazonaws.com/algorithmia-assets/algo_desc_images/nlp_Word2Vec/word2vec_pca_paper_example.png)"
   ]
  },
  {
   "cell_type": "markdown",
   "metadata": {},
   "source": [
    "spaCy contains pre-trained vectors. Tokenization too.\n",
    "\n",
    "spaCyに事前学習済ベクトルが入ってます。Tokenizationもしてくれます。"
   ]
  },
  {
   "cell_type": "code",
   "execution_count": 7,
   "metadata": {},
   "outputs": [],
   "source": [
    "import numpy as np"
   ]
  },
  {
   "cell_type": "code",
   "execution_count": 8,
   "metadata": {},
   "outputs": [
    {
     "name": "stdout",
     "output_type": "stream",
     "text": [
      "CPU times: user 6.84 s, sys: 18.8 s, total: 25.6 s\n",
      "Wall time: 27.5 s\n"
     ]
    }
   ],
   "source": [
    "%time nlp = spacy.load('en_core_web_lg')"
   ]
  },
  {
   "cell_type": "markdown",
   "metadata": {},
   "source": [
    "[Model Comparison | spaCy Models Documentation](https://spacy.io/models/comparison)"
   ]
  },
  {
   "cell_type": "code",
   "execution_count": 9,
   "metadata": {},
   "outputs": [
    {
     "name": "stdout",
     "output_type": "stream",
     "text": [
      "A \t True 5.3067 False\n",
      "man \t True 6.35294 False\n",
      "is \t True 4.89031 False\n",
      "riding \t True 6.70617 False\n",
      "a \t True 5.3067 False\n",
      "bicycle \t True 6.65521 False\n",
      ". \t True 4.93164 False\n"
     ]
    }
   ],
   "source": [
    "tokens = nlp(\"A man is riding a bicycle.\")\n",
    "\n",
    "for token in tokens:\n",
    "    print(token.text, \"\\t\", token.has_vector, token.vector_norm, token.is_oov)"
   ]
  },
  {
   "cell_type": "code",
   "execution_count": 10,
   "metadata": {},
   "outputs": [
    {
     "data": {
      "text/plain": [
       "300"
      ]
     },
     "execution_count": 10,
     "metadata": {},
     "output_type": "execute_result"
    }
   ],
   "source": [
    "len(token.vector)"
   ]
  },
  {
   "cell_type": "code",
   "execution_count": 11,
   "metadata": {},
   "outputs": [
    {
     "data": {
      "text/plain": [
       "array([ 0.012001  ,  0.20750999, -0.12578   , -0.59324998,  0.12525   ,\n",
       "        0.15975   ,  0.13748001, -0.33157   , -0.13694   ,  1.78929996], dtype=float32)"
      ]
     },
     "execution_count": 11,
     "metadata": {},
     "output_type": "execute_result"
    }
   ],
   "source": [
    "token.vector[:10]"
   ]
  },
  {
   "cell_type": "markdown",
   "metadata": {},
   "source": [
    "### Sentence 2 Vec"
   ]
  },
  {
   "cell_type": "markdown",
   "metadata": {},
   "source": [
    "How about simply SUMMING the word vectors ...! "
   ]
  },
  {
   "cell_type": "markdown",
   "metadata": {},
   "source": [
    "I'm sure there are smarter ways ...!"
   ]
  },
  {
   "cell_type": "code",
   "execution_count": 12,
   "metadata": {},
   "outputs": [
    {
     "data": {
      "text/plain": [
       "array([ 0.97004598,  0.99327803, -1.21864474, -1.29505992,  1.66167009], dtype=float32)"
      ]
     },
     "execution_count": 12,
     "metadata": {},
     "output_type": "execute_result"
    }
   ],
   "source": [
    "vec_sum = np.add.reduce([token.vector for token in tokens])\n",
    "vec_sum[:5]"
   ]
  },
  {
   "cell_type": "markdown",
   "metadata": {},
   "source": [
    "### Distance"
   ]
  },
  {
   "cell_type": "markdown",
   "metadata": {},
   "source": [
    "![Distances](https://i1.wp.com/dataaspirant.com/wp-content/uploads/2015/04/cover_post_final.png)"
   ]
  },
  {
   "cell_type": "code",
   "execution_count": 13,
   "metadata": {},
   "outputs": [],
   "source": [
    "def get_sum_vec(sentence):\n",
    "    tokens = nlp(sentence)\n",
    "    return np.add.reduce([token.vector for token in tokens])"
   ]
  },
  {
   "cell_type": "code",
   "execution_count": 14,
   "metadata": {},
   "outputs": [],
   "source": [
    "def get_avg_vec(sentence):\n",
    "    tokens = nlp(sentence)\n",
    "    return np.add.reduce([token.vector for token in tokens]) / len(tokens)"
   ]
  },
  {
   "cell_type": "code",
   "execution_count": 15,
   "metadata": {},
   "outputs": [],
   "source": [
    "from scipy.spatial import distance"
   ]
  },
  {
   "cell_type": "code",
   "execution_count": 16,
   "metadata": {},
   "outputs": [
    {
     "data": {
      "text/plain": [
       "(3.4654700756073, 0.0072470969419733411)"
      ]
     },
     "execution_count": 16,
     "metadata": {},
     "output_type": "execute_result"
    }
   ],
   "source": [
    "sent_1 = \"A man is riding a bicycle.\"\n",
    "sent_2 = \"A man is riding a bike.\"\n",
    "distance.euclidean(get_sum_vec(sent_1), get_sum_vec(sent_2)), distance.cosine(get_sum_vec(sent_1), get_sum_vec(sent_2))"
   ]
  },
  {
   "cell_type": "code",
   "execution_count": 17,
   "metadata": {},
   "outputs": [
    {
     "data": {
      "text/plain": [
       "(7.336596488952637, 0.10985393416714329)"
      ]
     },
     "execution_count": 17,
     "metadata": {},
     "output_type": "execute_result"
    }
   ],
   "source": [
    "sent_1 = \"Someone is drawing.\"\n",
    "sent_2 = \"Someone is dancing.\"\n",
    "distance.euclidean(get_sum_vec(sent_1), get_sum_vec(sent_2)), distance.cosine(get_sum_vec(sent_1), get_sum_vec(sent_2))"
   ]
  },
  {
   "cell_type": "markdown",
   "metadata": {},
   "source": [
    "### ... let's calc all"
   ]
  },
  {
   "cell_type": "code",
   "execution_count": 18,
   "metadata": {},
   "outputs": [
    {
     "data": {
      "text/html": [
       "<div>\n",
       "<style>\n",
       "    .dataframe thead tr:only-child th {\n",
       "        text-align: right;\n",
       "    }\n",
       "\n",
       "    .dataframe thead th {\n",
       "        text-align: left;\n",
       "    }\n",
       "\n",
       "    .dataframe tbody tr th {\n",
       "        vertical-align: top;\n",
       "    }\n",
       "</style>\n",
       "<table border=\"1\" class=\"dataframe\">\n",
       "  <thead>\n",
       "    <tr style=\"text-align: right;\">\n",
       "      <th></th>\n",
       "      <th>score</th>\n",
       "      <th>sent_1</th>\n",
       "      <th>sent_2</th>\n",
       "    </tr>\n",
       "  </thead>\n",
       "  <tbody>\n",
       "    <tr>\n",
       "      <th>0</th>\n",
       "      <td>5.0</td>\n",
       "      <td>A man is riding a bicycle.</td>\n",
       "      <td>A man is riding a bike.</td>\n",
       "    </tr>\n",
       "    <tr>\n",
       "      <th>1</th>\n",
       "      <td>5.0</td>\n",
       "      <td>A woman and man are dancing in the rain.</td>\n",
       "      <td>A man and woman are dancing in rain.</td>\n",
       "    </tr>\n",
       "    <tr>\n",
       "      <th>2</th>\n",
       "      <td>0.3</td>\n",
       "      <td>Someone is drawing.</td>\n",
       "      <td>Someone is dancing.</td>\n",
       "    </tr>\n",
       "    <tr>\n",
       "      <th>3</th>\n",
       "      <td>0.6</td>\n",
       "      <td>A man and a woman are kissing each other.</td>\n",
       "      <td>A man and a woman are talking to each other.</td>\n",
       "    </tr>\n",
       "    <tr>\n",
       "      <th>4</th>\n",
       "      <td>4.2</td>\n",
       "      <td>A woman is slicing an onion.</td>\n",
       "      <td>A woman is cutting an onion.</td>\n",
       "    </tr>\n",
       "  </tbody>\n",
       "</table>\n",
       "</div>"
      ],
      "text/plain": [
       "   score                                     sent_1  \\\n",
       "0    5.0                 A man is riding a bicycle.   \n",
       "1    5.0   A woman and man are dancing in the rain.   \n",
       "2    0.3                        Someone is drawing.   \n",
       "3    0.6  A man and a woman are kissing each other.   \n",
       "4    4.2               A woman is slicing an onion.   \n",
       "\n",
       "                                         sent_2  \n",
       "0                       A man is riding a bike.  \n",
       "1          A man and woman are dancing in rain.  \n",
       "2                           Someone is dancing.  \n",
       "3  A man and a woman are talking to each other.  \n",
       "4                  A woman is cutting an onion.  "
      ]
     },
     "execution_count": 18,
     "metadata": {},
     "output_type": "execute_result"
    }
   ],
   "source": [
    "df.head()"
   ]
  },
  {
   "cell_type": "code",
   "execution_count": 19,
   "metadata": {},
   "outputs": [
    {
     "name": "stdout",
     "output_type": "stream",
     "text": [
      "CPU times: user 45.7 s, sys: 52.1 s, total: 1min 37s\n",
      "Wall time: 25.5 s\n"
     ]
    }
   ],
   "source": [
    "%%time\n",
    "df[\"sent_1_vec_sum\"] = df.sent_1.apply(get_sum_vec)\n",
    "df[\"sent_2_vec_sum\"] = df.sent_2.apply(get_sum_vec)\n",
    "df[\"sent_1_vec_avg\"] = df.sent_1.apply(get_avg_vec)\n",
    "df[\"sent_2_vec_avg\"] = df.sent_2.apply(get_avg_vec)"
   ]
  },
  {
   "cell_type": "markdown",
   "metadata": {},
   "source": [
    "My friend said Apply in Pandas is very slow so don't use them ..."
   ]
  },
  {
   "cell_type": "code",
   "execution_count": 20,
   "metadata": {},
   "outputs": [
    {
     "name": "stdout",
     "output_type": "stream",
     "text": [
      "CPU times: user 164 ms, sys: 0 ns, total: 164 ms\n",
      "Wall time: 162 ms\n"
     ]
    }
   ],
   "source": [
    "%%time\n",
    "df[\"euclidean_sum\"] = df.apply(lambda row: distance.euclidean(row.sent_1_vec_sum, row.sent_2_vec_sum), axis=1)\n",
    "df[\"cosine_sum\"] = df.apply(lambda row: distance.cosine(row.sent_1_vec_sum, row.sent_2_vec_sum), axis=1)\n",
    "df[\"euclidean_avg\"] = df.apply(lambda row: distance.euclidean(row.sent_1_vec_avg, row.sent_2_vec_avg), axis=1)\n",
    "df[\"cosine_avg\"] = df.apply(lambda row: distance.cosine(row.sent_1_vec_avg, row.sent_2_vec_avg), axis=1)"
   ]
  },
  {
   "cell_type": "code",
   "execution_count": 21,
   "metadata": {},
   "outputs": [
    {
     "data": {
      "text/html": [
       "<div>\n",
       "<style>\n",
       "    .dataframe thead tr:only-child th {\n",
       "        text-align: right;\n",
       "    }\n",
       "\n",
       "    .dataframe thead th {\n",
       "        text-align: left;\n",
       "    }\n",
       "\n",
       "    .dataframe tbody tr th {\n",
       "        vertical-align: top;\n",
       "    }\n",
       "</style>\n",
       "<table border=\"1\" class=\"dataframe\">\n",
       "  <thead>\n",
       "    <tr style=\"text-align: right;\">\n",
       "      <th></th>\n",
       "      <th>score</th>\n",
       "      <th>sent_1</th>\n",
       "      <th>sent_2</th>\n",
       "      <th>sent_1_vec_sum</th>\n",
       "      <th>sent_2_vec_sum</th>\n",
       "      <th>sent_1_vec_avg</th>\n",
       "      <th>sent_2_vec_avg</th>\n",
       "      <th>euclidean_sum</th>\n",
       "      <th>cosine_sum</th>\n",
       "      <th>euclidean_avg</th>\n",
       "      <th>cosine_avg</th>\n",
       "    </tr>\n",
       "  </thead>\n",
       "  <tbody>\n",
       "    <tr>\n",
       "      <th>0</th>\n",
       "      <td>5.0</td>\n",
       "      <td>A man is riding a bicycle.</td>\n",
       "      <td>A man is riding a bike.</td>\n",
       "      <td>[0.970046, 0.993278, -1.21864, -1.29506, 1.661...</td>\n",
       "      <td>[1.00202, 0.833802, -1.49603, -1.24865, 1.9776...</td>\n",
       "      <td>[0.138578, 0.141897, -0.174092, -0.185009, 0.2...</td>\n",
       "      <td>[0.143145, 0.119115, -0.213719, -0.178379, 0.2...</td>\n",
       "      <td>3.465470</td>\n",
       "      <td>0.007247</td>\n",
       "      <td>0.495067</td>\n",
       "      <td>0.007247</td>\n",
       "    </tr>\n",
       "    <tr>\n",
       "      <th>1</th>\n",
       "      <td>5.0</td>\n",
       "      <td>A woman and man are dancing in the rain.</td>\n",
       "      <td>A man and woman are dancing in rain.</td>\n",
       "      <td>[0.136284, 1.10109, -0.750087, -0.876363, 1.30...</td>\n",
       "      <td>[-0.135756, 1.16312, -0.561687, -0.899588, 1.3...</td>\n",
       "      <td>[0.0136284, 0.110109, -0.0750087, -0.0876363, ...</td>\n",
       "      <td>[-0.015084, 0.129235, -0.0624097, -0.0999542, ...</td>\n",
       "      <td>4.709350</td>\n",
       "      <td>0.004921</td>\n",
       "      <td>0.371628</td>\n",
       "      <td>0.004921</td>\n",
       "    </tr>\n",
       "    <tr>\n",
       "      <th>2</th>\n",
       "      <td>0.3</td>\n",
       "      <td>Someone is drawing.</td>\n",
       "      <td>Someone is dancing.</td>\n",
       "      <td>[-0.264702, 1.0228, -0.868892, -0.62101, 0.345...</td>\n",
       "      <td>[-0.353269, 0.87706, -0.715998, -0.536533, 0.9...</td>\n",
       "      <td>[-0.0661755, 0.2557, -0.217223, -0.155253, 0.0...</td>\n",
       "      <td>[-0.0883172, 0.219265, -0.178999, -0.134133, 0...</td>\n",
       "      <td>7.336596</td>\n",
       "      <td>0.109854</td>\n",
       "      <td>1.834149</td>\n",
       "      <td>0.109854</td>\n",
       "    </tr>\n",
       "    <tr>\n",
       "      <th>3</th>\n",
       "      <td>0.6</td>\n",
       "      <td>A man and a woman are kissing each other.</td>\n",
       "      <td>A man and a woman are talking to each other.</td>\n",
       "      <td>[-1.20586, -0.771626, -2.33537, -0.096347, 2.2...</td>\n",
       "      <td>[-0.850506, 0.453724, -2.64864, 0.26765, 1.995...</td>\n",
       "      <td>[-0.120586, -0.0771626, -0.233537, -0.0096347,...</td>\n",
       "      <td>[-0.0773187, 0.0412476, -0.240785, 0.0243318, ...</td>\n",
       "      <td>8.728336</td>\n",
       "      <td>0.021436</td>\n",
       "      <td>0.781043</td>\n",
       "      <td>0.021436</td>\n",
       "    </tr>\n",
       "    <tr>\n",
       "      <th>4</th>\n",
       "      <td>4.2</td>\n",
       "      <td>A woman is slicing an onion.</td>\n",
       "      <td>A woman is cutting an onion.</td>\n",
       "      <td>[-1.19685, 1.31592, 0.0957463, 0.40963, 1.0724...</td>\n",
       "      <td>[-1.08647, 2.136, -0.0858037, 0.09977, 0.94892...</td>\n",
       "      <td>[-0.170978, 0.187988, 0.013678, 0.0585186, 0.1...</td>\n",
       "      <td>[-0.15521, 0.305143, -0.0122577, 0.0142529, 0....</td>\n",
       "      <td>5.273083</td>\n",
       "      <td>0.020499</td>\n",
       "      <td>0.753298</td>\n",
       "      <td>0.020499</td>\n",
       "    </tr>\n",
       "  </tbody>\n",
       "</table>\n",
       "</div>"
      ],
      "text/plain": [
       "   score                                     sent_1  \\\n",
       "0    5.0                 A man is riding a bicycle.   \n",
       "1    5.0   A woman and man are dancing in the rain.   \n",
       "2    0.3                        Someone is drawing.   \n",
       "3    0.6  A man and a woman are kissing each other.   \n",
       "4    4.2               A woman is slicing an onion.   \n",
       "\n",
       "                                         sent_2  \\\n",
       "0                       A man is riding a bike.   \n",
       "1          A man and woman are dancing in rain.   \n",
       "2                           Someone is dancing.   \n",
       "3  A man and a woman are talking to each other.   \n",
       "4                  A woman is cutting an onion.   \n",
       "\n",
       "                                      sent_1_vec_sum  \\\n",
       "0  [0.970046, 0.993278, -1.21864, -1.29506, 1.661...   \n",
       "1  [0.136284, 1.10109, -0.750087, -0.876363, 1.30...   \n",
       "2  [-0.264702, 1.0228, -0.868892, -0.62101, 0.345...   \n",
       "3  [-1.20586, -0.771626, -2.33537, -0.096347, 2.2...   \n",
       "4  [-1.19685, 1.31592, 0.0957463, 0.40963, 1.0724...   \n",
       "\n",
       "                                      sent_2_vec_sum  \\\n",
       "0  [1.00202, 0.833802, -1.49603, -1.24865, 1.9776...   \n",
       "1  [-0.135756, 1.16312, -0.561687, -0.899588, 1.3...   \n",
       "2  [-0.353269, 0.87706, -0.715998, -0.536533, 0.9...   \n",
       "3  [-0.850506, 0.453724, -2.64864, 0.26765, 1.995...   \n",
       "4  [-1.08647, 2.136, -0.0858037, 0.09977, 0.94892...   \n",
       "\n",
       "                                      sent_1_vec_avg  \\\n",
       "0  [0.138578, 0.141897, -0.174092, -0.185009, 0.2...   \n",
       "1  [0.0136284, 0.110109, -0.0750087, -0.0876363, ...   \n",
       "2  [-0.0661755, 0.2557, -0.217223, -0.155253, 0.0...   \n",
       "3  [-0.120586, -0.0771626, -0.233537, -0.0096347,...   \n",
       "4  [-0.170978, 0.187988, 0.013678, 0.0585186, 0.1...   \n",
       "\n",
       "                                      sent_2_vec_avg  euclidean_sum  \\\n",
       "0  [0.143145, 0.119115, -0.213719, -0.178379, 0.2...       3.465470   \n",
       "1  [-0.015084, 0.129235, -0.0624097, -0.0999542, ...       4.709350   \n",
       "2  [-0.0883172, 0.219265, -0.178999, -0.134133, 0...       7.336596   \n",
       "3  [-0.0773187, 0.0412476, -0.240785, 0.0243318, ...       8.728336   \n",
       "4  [-0.15521, 0.305143, -0.0122577, 0.0142529, 0....       5.273083   \n",
       "\n",
       "   cosine_sum  euclidean_avg  cosine_avg  \n",
       "0    0.007247       0.495067    0.007247  \n",
       "1    0.004921       0.371628    0.004921  \n",
       "2    0.109854       1.834149    0.109854  \n",
       "3    0.021436       0.781043    0.021436  \n",
       "4    0.020499       0.753298    0.020499  "
      ]
     },
     "execution_count": 21,
     "metadata": {},
     "output_type": "execute_result"
    }
   ],
   "source": [
    "df.head()"
   ]
  },
  {
   "cell_type": "markdown",
   "metadata": {},
   "source": [
    "Melting (un-pivotting) ..."
   ]
  },
  {
   "cell_type": "code",
   "execution_count": 22,
   "metadata": {},
   "outputs": [
    {
     "data": {
      "text/html": [
       "<div>\n",
       "<style>\n",
       "    .dataframe thead tr:only-child th {\n",
       "        text-align: right;\n",
       "    }\n",
       "\n",
       "    .dataframe thead th {\n",
       "        text-align: left;\n",
       "    }\n",
       "\n",
       "    .dataframe tbody tr th {\n",
       "        vertical-align: top;\n",
       "    }\n",
       "</style>\n",
       "<table border=\"1\" class=\"dataframe\">\n",
       "  <thead>\n",
       "    <tr style=\"text-align: right;\">\n",
       "      <th></th>\n",
       "      <th>score</th>\n",
       "      <th>variable</th>\n",
       "      <th>value</th>\n",
       "    </tr>\n",
       "  </thead>\n",
       "  <tbody>\n",
       "    <tr>\n",
       "      <th>0</th>\n",
       "      <td>5.0</td>\n",
       "      <td>euclidean_sum</td>\n",
       "      <td>3.465470</td>\n",
       "    </tr>\n",
       "    <tr>\n",
       "      <th>1</th>\n",
       "      <td>5.0</td>\n",
       "      <td>euclidean_sum</td>\n",
       "      <td>4.709350</td>\n",
       "    </tr>\n",
       "    <tr>\n",
       "      <th>2</th>\n",
       "      <td>0.3</td>\n",
       "      <td>euclidean_sum</td>\n",
       "      <td>7.336596</td>\n",
       "    </tr>\n",
       "    <tr>\n",
       "      <th>3</th>\n",
       "      <td>0.6</td>\n",
       "      <td>euclidean_sum</td>\n",
       "      <td>8.728336</td>\n",
       "    </tr>\n",
       "    <tr>\n",
       "      <th>4</th>\n",
       "      <td>4.2</td>\n",
       "      <td>euclidean_sum</td>\n",
       "      <td>5.273083</td>\n",
       "    </tr>\n",
       "  </tbody>\n",
       "</table>\n",
       "</div>"
      ],
      "text/plain": [
       "   score       variable     value\n",
       "0    5.0  euclidean_sum  3.465470\n",
       "1    5.0  euclidean_sum  4.709350\n",
       "2    0.3  euclidean_sum  7.336596\n",
       "3    0.6  euclidean_sum  8.728336\n",
       "4    4.2  euclidean_sum  5.273083"
      ]
     },
     "execution_count": 22,
     "metadata": {},
     "output_type": "execute_result"
    }
   ],
   "source": [
    "df_vertical = df.melt(id_vars=[\"score\"], value_vars=[\"euclidean_sum\", \"cosine_sum\", \"euclidean_avg\", \"cosine_avg\"])\n",
    "df_vertical.head()"
   ]
  },
  {
   "cell_type": "code",
   "execution_count": 23,
   "metadata": {},
   "outputs": [
    {
     "data": {
      "text/plain": [
       "0    [euclidean, sum]\n",
       "1    [euclidean, sum]\n",
       "2    [euclidean, sum]\n",
       "3    [euclidean, sum]\n",
       "4    [euclidean, sum]\n",
       "Name: variable, dtype: object"
      ]
     },
     "execution_count": 23,
     "metadata": {},
     "output_type": "execute_result"
    }
   ],
   "source": [
    "df_vertical.variable.apply(lambda x: x.split(\"_\"))[:5]"
   ]
  },
  {
   "cell_type": "code",
   "execution_count": 24,
   "metadata": {},
   "outputs": [],
   "source": [
    "df_vertical[\"distance\"] = df_vertical.variable.apply(lambda x: x.split(\"_\")[0])\n",
    "df_vertical[\"vector\"] = df_vertical.variable.apply(lambda x: x.split(\"_\")[1])\n",
    "df_vertical.drop(\"variable\", inplace=True, axis=1)"
   ]
  },
  {
   "cell_type": "code",
   "execution_count": 25,
   "metadata": {},
   "outputs": [
    {
     "data": {
      "text/html": [
       "<div>\n",
       "<style>\n",
       "    .dataframe thead tr:only-child th {\n",
       "        text-align: right;\n",
       "    }\n",
       "\n",
       "    .dataframe thead th {\n",
       "        text-align: left;\n",
       "    }\n",
       "\n",
       "    .dataframe tbody tr th {\n",
       "        vertical-align: top;\n",
       "    }\n",
       "</style>\n",
       "<table border=\"1\" class=\"dataframe\">\n",
       "  <thead>\n",
       "    <tr style=\"text-align: right;\">\n",
       "      <th></th>\n",
       "      <th>score</th>\n",
       "      <th>value</th>\n",
       "      <th>distance</th>\n",
       "      <th>vector</th>\n",
       "    </tr>\n",
       "  </thead>\n",
       "  <tbody>\n",
       "    <tr>\n",
       "      <th>0</th>\n",
       "      <td>5.00</td>\n",
       "      <td>3.465470</td>\n",
       "      <td>euclidean</td>\n",
       "      <td>sum</td>\n",
       "    </tr>\n",
       "    <tr>\n",
       "      <th>1</th>\n",
       "      <td>5.00</td>\n",
       "      <td>4.709350</td>\n",
       "      <td>euclidean</td>\n",
       "      <td>sum</td>\n",
       "    </tr>\n",
       "    <tr>\n",
       "      <th>2</th>\n",
       "      <td>0.30</td>\n",
       "      <td>7.336596</td>\n",
       "      <td>euclidean</td>\n",
       "      <td>sum</td>\n",
       "    </tr>\n",
       "    <tr>\n",
       "      <th>3</th>\n",
       "      <td>0.60</td>\n",
       "      <td>8.728336</td>\n",
       "      <td>euclidean</td>\n",
       "      <td>sum</td>\n",
       "    </tr>\n",
       "    <tr>\n",
       "      <th>4</th>\n",
       "      <td>4.20</td>\n",
       "      <td>5.273083</td>\n",
       "      <td>euclidean</td>\n",
       "      <td>sum</td>\n",
       "    </tr>\n",
       "    <tr>\n",
       "      <th>5</th>\n",
       "      <td>3.60</td>\n",
       "      <td>8.022580</td>\n",
       "      <td>euclidean</td>\n",
       "      <td>sum</td>\n",
       "    </tr>\n",
       "    <tr>\n",
       "      <th>6</th>\n",
       "      <td>5.00</td>\n",
       "      <td>5.273083</td>\n",
       "      <td>euclidean</td>\n",
       "      <td>sum</td>\n",
       "    </tr>\n",
       "    <tr>\n",
       "      <th>7</th>\n",
       "      <td>2.75</td>\n",
       "      <td>6.331084</td>\n",
       "      <td>euclidean</td>\n",
       "      <td>sum</td>\n",
       "    </tr>\n",
       "    <tr>\n",
       "      <th>8</th>\n",
       "      <td>5.00</td>\n",
       "      <td>8.237260</td>\n",
       "      <td>euclidean</td>\n",
       "      <td>sum</td>\n",
       "    </tr>\n",
       "    <tr>\n",
       "      <th>9</th>\n",
       "      <td>3.75</td>\n",
       "      <td>7.709869</td>\n",
       "      <td>euclidean</td>\n",
       "      <td>sum</td>\n",
       "    </tr>\n",
       "  </tbody>\n",
       "</table>\n",
       "</div>"
      ],
      "text/plain": [
       "   score     value   distance vector\n",
       "0   5.00  3.465470  euclidean    sum\n",
       "1   5.00  4.709350  euclidean    sum\n",
       "2   0.30  7.336596  euclidean    sum\n",
       "3   0.60  8.728336  euclidean    sum\n",
       "4   4.20  5.273083  euclidean    sum\n",
       "5   3.60  8.022580  euclidean    sum\n",
       "6   5.00  5.273083  euclidean    sum\n",
       "7   2.75  6.331084  euclidean    sum\n",
       "8   5.00  8.237260  euclidean    sum\n",
       "9   3.75  7.709869  euclidean    sum"
      ]
     },
     "execution_count": 25,
     "metadata": {},
     "output_type": "execute_result"
    }
   ],
   "source": [
    "df_vertical.head(10)"
   ]
  },
  {
   "cell_type": "markdown",
   "metadata": {},
   "source": [
    "### ... and viz"
   ]
  },
  {
   "cell_type": "code",
   "execution_count": 26,
   "metadata": {},
   "outputs": [],
   "source": [
    "%matplotlib inline"
   ]
  },
  {
   "cell_type": "code",
   "execution_count": 27,
   "metadata": {},
   "outputs": [],
   "source": [
    "import matplotlib.pyplot as plt\n",
    "import seaborn as sns\n",
    "sns.set_context(\"notebook\")"
   ]
  },
  {
   "cell_type": "code",
   "execution_count": 28,
   "metadata": {},
   "outputs": [
    {
     "data": {
      "image/png": "[encoded data removed]",
      "text/plain": [
       "<matplotlib.figure.Figure at 0x7f821c065c50>"
      ]
     },
     "metadata": {},
     "output_type": "display_data"
    }
   ],
   "source": [
    "g = sns.FacetGrid(df_vertical, row=\"distance\", col=\"vector\")\n",
    "g = g.map(plt.scatter, \"score\", \"value\", edgecolor=\"w\")"
   ]
  },
  {
   "cell_type": "code",
   "execution_count": 29,
   "metadata": {},
   "outputs": [
    {
     "data": {
      "text/plain": [
       "<seaborn.axisgrid.FacetGrid at 0x7f8217e89550>"
      ]
     },
     "execution_count": 29,
     "metadata": {},
     "output_type": "execute_result"
    },
    {
     "data": {
      "image/png": "[encoded data removed]",
      "text/plain": [
       "<matplotlib.figure.Figure at 0x7f8217e89278>"
      ]
     },
     "metadata": {},
     "output_type": "display_data"
    }
   ],
   "source": [
    "sns.lmplot(x=\"score\", y=\"euclidean_sum\", data=df)"
   ]
  },
  {
   "cell_type": "code",
   "execution_count": 30,
   "metadata": {},
   "outputs": [
    {
     "data": {
      "text/plain": [
       "<seaborn.axisgrid.FacetGrid at 0x7f8217dcf550>"
      ]
     },
     "execution_count": 30,
     "metadata": {},
     "output_type": "execute_result"
    },
    {
     "data": {
      "image/png": "[encoded data removed]",
      "text/plain": [
       "<matplotlib.figure.Figure at 0x7f8217e3a4e0>"
      ]
     },
     "metadata": {},
     "output_type": "display_data"
    }
   ],
   "source": [
    "sns.lmplot(x=\"score\", y=\"euclidean_avg\", data=df)"
   ]
  },
  {
   "cell_type": "code",
   "execution_count": 31,
   "metadata": {},
   "outputs": [
    {
     "data": {
      "text/plain": [
       "<seaborn.axisgrid.FacetGrid at 0x7f8217df63c8>"
      ]
     },
     "execution_count": 31,
     "metadata": {},
     "output_type": "execute_result"
    },
    {
     "data": {
      "image/png": "[encoded data removed]",
      "text/plain": [
       "<matplotlib.figure.Figure at 0x7f8217eb9f28>"
      ]
     },
     "metadata": {},
     "output_type": "display_data"
    }
   ],
   "source": [
    "sns.lmplot(x=\"score\", y=\"cosine_sum\", data=df)"
   ]
  },
  {
   "cell_type": "code",
   "execution_count": 32,
   "metadata": {},
   "outputs": [
    {
     "data": {
      "text/plain": [
       "<seaborn.axisgrid.FacetGrid at 0x7f8217e2dc18>"
      ]
     },
     "execution_count": 32,
     "metadata": {},
     "output_type": "execute_result"
    },
    {
     "data": {
      "image/png": "[encoded data removed]",
      "text/plain": [
       "<matplotlib.figure.Figure at 0x7f8217e2d400>"
      ]
     },
     "metadata": {},
     "output_type": "display_data"
    }
   ],
   "source": [
    "sns.lmplot(x=\"score\", y=\"cosine_avg\", data=df)"
   ]
  },
  {
   "cell_type": "markdown",
   "metadata": {},
   "source": [
    "## Discussions"
   ]
  },
  {
   "cell_type": "markdown",
   "metadata": {},
   "source": [
    "- Representing Vector\n",
    "    - What does it mean to SUM / AVG the vectors?\n",
    "    - SUMMING : The MAGNITUDE depends on the sentence length (#tokens)?\n",
    "    - More clever ways in the world : Recent advances in Neural NLP\n",
    "- Distributional Hypothesis\n",
    "    - \"a word is characterized by the company it keeps\" (Firth, 1957)\n",
    "    - \"love\" and \"hate\" can have same context in the corpus\n",
    "- Bag of Words\n",
    "    - \"Dog bite man\" and \"Man bite dog\" same\n",
    "    - Linguistics!\n",
    "- Knowledge\n",
    "    - WordNet, ..."
   ]
  },
  {
   "cell_type": "markdown",
   "metadata": {},
   "source": [
    "- Short Sentence -> Mostly `\"<Subject> <Action> <Object>\" + some Adjs`?"
   ]
  },
  {
   "cell_type": "markdown",
   "metadata": {},
   "source": [
    "![](https://encrypted-tbn0.gstatic.com/images?q=tbn:ANd9GcSJk1Joxn7pf87wIbj3kBfpH143MdIWef6kk66QeMXO35rDVWZuKA)"
   ]
  }
 ],
 "metadata": {
  "kernelspec": {
   "display_name": "Python 3",
   "language": "python",
   "name": "python3"
  },
  "language_info": {
   "codemirror_mode": {
    "name": "ipython",
    "version": 3
   },
   "file_extension": ".py",
   "mimetype": "text/x-python",
   "name": "python",
   "nbconvert_exporter": "python",
   "pygments_lexer": "ipython3",
   "version": "3.6.4"
  }
 },
 "nbformat": 4,
 "nbformat_minor": 2
}
