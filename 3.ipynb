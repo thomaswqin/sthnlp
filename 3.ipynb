{
 "cells": [
  {
   "cell_type": "markdown",
   "metadata": {},
   "source": [
    "# Let's Do Something with NLP #3"
   ]
  },
  {
   "cell_type": "markdown",
   "metadata": {},
   "source": [
    "## \"Text Similarity\" ... ?"
   ]
  },
  {
   "cell_type": "markdown",
   "metadata": {},
   "source": [
    "I have looked at another task; \"Emoji Prediction\"."
   ]
  },
  {
   "cell_type": "markdown",
   "metadata": {},
   "source": [
    "## Are Emojis Predictable?\n",
    "\n",
    "> Barbieri F., Ballesteros M., Saggion H., Are Emojis Predictable?, European Chapter of the Association for Computational Linguistics Valencia, 3-7 April 2017.\n",
    "https://arxiv.org/abs/1702.07285"
   ]
  },
  {
   "cell_type": "markdown",
   "metadata": {},
   "source": [
    "![](https://lh6.googleusercontent.com/3s8OtxhJJXjdKcv2i5E-4oqiqvb7gI7xnSVjmHHYiHjK_oAXW0tXnv1HjpbJbFQTUuCoAD5fEChwc5tfGfckcj1WgJsEw-SX8VbG_aYhu2oPt1hNfUb4bMaNt8QQD3jwkDTB5Qad)"
   ]
  },
  {
   "cell_type": "markdown",
   "metadata": {},
   "source": [
    "### Dataset\n",
    "\n",
    "- 40 million tweets\n",
    "    - selected tweets which include one and only one of the 20 most frequent emojis\n",
    "    - -> final set: 584,600 tweets\n",
    "    - remove the emoji, set as the label"
   ]
  },
  {
   "cell_type": "markdown",
   "metadata": {},
   "source": [
    "### Models\n",
    "\n",
    "* Bag of Words : Baseline 1\n",
    "* Skip-Gram Vector Average : Baseline 2\n",
    "* BiLSTMs : looks at the context"
   ]
  },
  {
   "cell_type": "markdown",
   "metadata": {},
   "source": [
    "### Results\n",
    "\n",
    "* BiLSTMs outperform human ...!"
   ]
  },
  {
   "cell_type": "markdown",
   "metadata": {},
   "source": [
    "## SemEval-2018 Task 2, Multilingual Emoji Prediction\n",
    "\n",
    "- [CodaLab - Competition](https://competitions.codalab.org/competitions/17344)\n",
    "- [fvancesco/Semeval2018-Task2-Emoji-Detection: Tools and Dataset to partecipate to Semeval 2018 Task 2 \"Multilingual Emoji Detection\"](https://github.com/fvancesco/Semeval2018-Task2-Emoji-Detection/)"
   ]
  },
  {
   "cell_type": "code",
   "execution_count": 2,
   "metadata": {},
   "outputs": [
    {
     "name": "stdout",
     "output_type": "stream",
     "text": [
      "\u001b[01;34mdata/train_semeval2018task2/\u001b[00m\r\n",
      "├── \u001b[01;34mcrawler\u001b[00m\r\n",
      "│   ├── crawler.properties\r\n",
      "│   ├── \u001b[01;34mdata\u001b[00m\r\n",
      "│   ├── \u001b[01;34mlib\u001b[00m\r\n",
      "│   │   ├── \u001b[01;31mcommons-codec-1.6.jar\u001b[00m\r\n",
      "│   │   ├── \u001b[01;31mcommons-logging-1.1.1.jar\u001b[00m\r\n",
      "│   │   ├── \u001b[01;31mguava-14.0.1.jar\u001b[00m\r\n",
      "│   │   ├── \u001b[01;31mhbc-core-2.2.0.jar\u001b[00m\r\n",
      "│   │   ├── \u001b[01;31mhbc-twitter4j-2.2.0.jar\u001b[00m\r\n",
      "│   │   ├── \u001b[01;31mhttpclient-4.2.5.jar\u001b[00m\r\n",
      "│   │   ├── \u001b[01;31mhttpcore-4.2.4.jar\u001b[00m\r\n",
      "│   │   ├── \u001b[01;31mjoauth-6.0.2.jar\u001b[00m\r\n",
      "│   │   ├── \u001b[01;31mjsr305-1.3.9.jar\u001b[00m\r\n",
      "│   │   ├── \u001b[01;31mslf4j-api-1.6.6.jar\u001b[00m\r\n",
      "│   │   ├── \u001b[01;31mtwitter4j-core-4.0.6.jar\u001b[00m\r\n",
      "│   │   └── \u001b[01;31mtwitter4j-stream-4.0.6.jar\u001b[00m\r\n",
      "│   ├── README.txt\r\n",
      "│   ├── train_es_semeval18.ids\r\n",
      "│   ├── train_us_semeval18.ids\r\n",
      "│   └── \u001b[01;31mtwitter-crawler-0.4.jar\u001b[00m\r\n",
      "├── emoji_extractor_semeval18.py\r\n",
      "├── emojilib.py\r\n",
      "├── README.txt\r\n",
      "└── unicode_codes.py\r\n",
      "\r\n",
      "3 directories, 21 files\r\n"
     ]
    }
   ],
   "source": [
    "!tree data/train_semeval2018task2/"
   ]
  },
  {
   "cell_type": "code",
   "execution_count": 3,
   "metadata": {},
   "outputs": [
    {
     "name": "stdout",
     "output_type": "stream",
     "text": [
      "Quick start:\r\n",
      "1) Download the json of the tweets with the crawler, see the README in the crawler folder. \r\n",
      "2) Prepare the dataset for the emoji prediction task using the emoji extractor. Run it with:\r\n",
      "python2.7 emoji_extractor_semeval18.py PATH/TO/JSON.txt LANGUAGE(us|es)\r\n",
      "\r\n",
      "For example (for us):\r\n",
      "python2.7 emoji_extractor_semeval18.py ./crawler/data/tweet_by_SOMEDATE.txt us\r\n",
      "\r\n",
      "For example (for es):\r\n",
      "python2.7 emoji_extractor_semeval18.py ./crawler/data/tweet_by_SOMEDATE.txt es\r\n",
      "\r\n",
      "After the execution, you will find three files in the same folder of the twitter json:\r\n",
      "- .text file with one text per line\r\n",
      "- .labels file with one label per line (same order as previous one)\r\n",
      "- .ids file with one twitter id per line (to keep track of the tweet you are using)\r\n",
      "\r\n",
      "Good luck! For any issue ask us a question in the google group:\r\n",
      "https://groups.google.com/d/forum/semeval-2018-task-2-multilingual-emoji-prediction"
     ]
    }
   ],
   "source": [
    "!cat data/train_semeval2018task2/README.txt"
   ]
  },
  {
   "cell_type": "markdown",
   "metadata": {},
   "source": [
    "### Using Twitter data"
   ]
  },
  {
   "cell_type": "markdown",
   "metadata": {},
   "source": [
    "You need to crawl the data, because people are not allowed to share the tweet data directly."
   ]
  },
  {
   "cell_type": "code",
   "execution_count": 4,
   "metadata": {},
   "outputs": [
    {
     "name": "stdout",
     "output_type": "stream",
     "text": [
      "678331930509631488\r\n",
      "677533880614830080\r\n",
      "774780609172541440\r\n",
      "812023133687480320\r\n",
      "743450296840523776\r\n",
      "680413432235986944\r\n",
      "794014495127408641\r\n",
      "654367251756417024\r\n",
      "679398419727691776\r\n",
      "679401317568245760\r\n"
     ]
    }
   ],
   "source": [
    "!head data/train_semeval2018task2/crawler/train_us_semeval18.ids"
   ]
  },
  {
   "cell_type": "markdown",
   "metadata": {},
   "source": [
    "1. Get a Twitter Key\n",
    "    - Create an account, register phone number\n",
    "    - go to https://apps.twitter.com/ andget an access token\n",
    "1. Download the json of the tweets with the crawler\n",
    "1. Prepare the dataset for the emoji prediction task using the emoji extractor"
   ]
  },
  {
   "cell_type": "markdown",
   "metadata": {},
   "source": [
    "![](./twitter.png)"
   ]
  },
  {
   "cell_type": "code",
   "execution_count": null,
   "metadata": {},
   "outputs": [],
   "source": []
  }
 ],
 "metadata": {
  "kernelspec": {
   "display_name": "Python 3",
   "language": "python",
   "name": "python3"
  },
  "language_info": {
   "codemirror_mode": {
    "name": "ipython",
    "version": 3
   },
   "file_extension": ".py",
   "mimetype": "text/x-python",
   "name": "python",
   "nbconvert_exporter": "python",
   "pygments_lexer": "ipython3",
   "version": "3.6.3"
  },
  "toc": {
   "nav_menu": {},
   "number_sections": false,
   "sideBar": true,
   "skip_h1_title": false,
   "title_cell": "Table of Contents",
   "title_sidebar": "Contents",
   "toc_cell": false,
   "toc_position": {},
   "toc_section_display": true,
   "toc_window_display": true
  }
 },
 "nbformat": 4,
 "nbformat_minor": 2
}
